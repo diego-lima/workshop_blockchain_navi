{
 "cells": [
  {
   "cell_type": "markdown",
   "metadata": {},
   "source": [
    "### Instalação de dependências"
   ]
  },
  {
   "cell_type": "code",
   "execution_count": null,
   "metadata": {},
   "outputs": [],
   "source": [
    "!apk add gcc python3-dev libc-dev\n",
    "!pip3 install web3"
   ]
  },
  {
   "cell_type": "code",
   "execution_count": 28,
   "metadata": {},
   "outputs": [
    {
     "name": "stdout",
     "output_type": "stream",
     "text": [
      "\u001b[0;0mUntitled.ipynb\u001b[m  \u001b[1;34mweb3.py\u001b[m\r\n"
     ]
    }
   ],
   "source": [
    "!ls"
   ]
  },
  {
   "cell_type": "markdown",
   "metadata": {},
   "source": [
    "### Importando bibliotecas"
   ]
  },
  {
   "cell_type": "code",
   "execution_count": 4,
   "metadata": {},
   "outputs": [],
   "source": [
    "import json\n",
    "from web3 import Web3"
   ]
  },
  {
   "cell_type": "markdown",
   "metadata": {},
   "source": [
    "### Setando variáveis de ambiente e constantes"
   ]
  },
  {
   "cell_type": "code",
   "execution_count": 5,
   "metadata": {},
   "outputs": [],
   "source": [
    "# As definições de funções do contrato\n",
    "arquivo_abi = ''\n",
    "\n",
    "# O endereço que corresponde à minha pessoa\n",
    "endereco_pessoal = '0xbda309574ddb985aee85cd2cc14908ef9d6cc6ea'\n",
    "endereco_pessoal = Web3.toChecksumAddress(endereco_pessoal)\n",
    "\n",
    "# A senha de autenticação\n",
    "senha = ''\n",
    "\n",
    "# O endereço no qual podemos achar o contrato na blockchain\n",
    "endereco_contrato = '0x97bb97c2642b1e7385451aa2c53daaa3360dca8d'\n",
    "endereco_contrato = Web3.toChecksumAddress(endereco_contrato)"
   ]
  },
  {
   "cell_type": "markdown",
   "metadata": {},
   "source": [
    "### Rodando as configurações necessárias"
   ]
  },
  {
   "cell_type": "code",
   "execution_count": 6,
   "metadata": {},
   "outputs": [
    {
     "name": "stdout",
     "output_type": "stream",
     "text": [
      "Sucesso!\n"
     ]
    }
   ],
   "source": [
    "provider = Web3.HTTPProvider(\"http://10.4.43.84:8545\")\n",
    "w3 = Web3(provider)\n",
    "\n",
    "# Verificando conexão com o nó e o arquivo ABI\n",
    "if not w3.isConnected():\n",
    "    raise Exception(\"Node connection failed.\")\n",
    "    \n",
    "abi = '[{\"constant\":true,\"inputs\":[{\"name\":\"person\",\"type\":\"address\"}],\"name\":\"get_ecg_data\",\"outputs\":[{\"name\":\"\",\"type\":\"string\"},{\"name\":\"\",\"type\":\"uint256[600]\"}],\"payable\":false,\"stateMutability\":\"view\",\"type\":\"function\"},{\"constant\":false,\"inputs\":[{\"name\":\"person\",\"type\":\"address\"},{\"name\":\"allowed\",\"type\":\"bool\"}],\"name\":\"set_permission\",\"outputs\":[],\"payable\":false,\"stateMutability\":\"nonpayable\",\"type\":\"function\"},{\"constant\":true,\"inputs\":[{\"name\":\"\",\"type\":\"address\"}],\"name\":\"peopleMap\",\"outputs\":[{\"name\":\"name\",\"type\":\"string\"},{\"name\":\"id\",\"type\":\"string\"},{\"name\":\"isSet\",\"type\":\"bool\"},{\"name\":\"hasPermission\",\"type\":\"bool\"}],\"payable\":false,\"stateMutability\":\"view\",\"type\":\"function\"},{\"constant\":true,\"inputs\":[{\"name\":\"person\",\"type\":\"address\"}],\"name\":\"get_permission\",\"outputs\":[{\"name\":\"\",\"type\":\"string\"}],\"payable\":false,\"stateMutability\":\"view\",\"type\":\"function\"},{\"constant\":false,\"inputs\":[{\"name\":\"addr\",\"type\":\"address\"},{\"name\":\"_name\",\"type\":\"string\"},{\"name\":\"_id\",\"type\":\"string\"}],\"name\":\"set_data\",\"outputs\":[],\"payable\":false,\"stateMutability\":\"nonpayable\",\"type\":\"function\"},{\"constant\":false,\"inputs\":[{\"name\":\"addr\",\"type\":\"address\"},{\"name\":\"_descricao\",\"type\":\"string\"},{\"name\":\"_dados\",\"type\":\"uint256[600]\"}],\"name\":\"set_ecg_data\",\"outputs\":[],\"payable\":false,\"stateMutability\":\"nonpayable\",\"type\":\"function\"},{\"constant\":true,\"inputs\":[{\"name\":\"\",\"type\":\"address\"}],\"name\":\"ECGMap\",\"outputs\":[{\"name\":\"descricao\",\"type\":\"string\"}],\"payable\":false,\"stateMutability\":\"view\",\"type\":\"function\"},{\"constant\":true,\"inputs\":[{\"name\":\"person\",\"type\":\"address\"}],\"name\":\"get_data\",\"outputs\":[{\"name\":\"\",\"type\":\"string\"},{\"name\":\"\",\"type\":\"string\"}],\"payable\":false,\"stateMutability\":\"view\",\"type\":\"function\"},{\"inputs\":[],\"payable\":false,\"stateMutability\":\"nonpayable\",\"type\":\"constructor\"}]'\n",
    "abi = json.loads(abi)\n",
    "    \n",
    "# Setting up contract instance\n",
    "contrato = w3.eth.contract(\n",
    "        address=endereco_contrato,\n",
    "        abi=abi,\n",
    "    )\n",
    "\n",
    "if not w3.eth.getCode(contrato.address):\n",
    "    raise Exception(\"Contract not configured properly. Are you synchronized with the chain? Can you find the contract?\")\n",
    "\n",
    "print(\"Sucesso!\")"
   ]
  },
  {
   "cell_type": "markdown",
   "metadata": {},
   "source": [
    "### Interagindo com o contrato"
   ]
  },
  {
   "cell_type": "markdown",
   "metadata": {},
   "source": [
    "essas são as funções do contrato:"
   ]
  },
  {
   "cell_type": "code",
   "execution_count": 7,
   "metadata": {},
   "outputs": [
    {
     "name": "stdout",
     "output_type": "stream",
     "text": [
      "get_ecg_data\n",
      "set_permission\n",
      "peopleMap\n",
      "get_permission\n",
      "set_data\n",
      "set_ecg_data\n",
      "ECGMap\n",
      "get_data\n"
     ]
    }
   ],
   "source": [
    "for item in contrato.abi:\n",
    "    if item['type'] == 'function':\n",
    "        print(item['name'])"
   ]
  },
  {
   "cell_type": "markdown",
   "metadata": {},
   "source": [
    "Vendo e mudando a minha própria permissão:"
   ]
  },
  {
   "cell_type": "code",
   "execution_count": 17,
   "metadata": {},
   "outputs": [
    {
     "data": {
      "text/plain": [
       "HexBytes('0xa3a075ceda0330257fa394fbb496b750c9c8e87d0b964ce186533081f2352f36')"
      ]
     },
     "execution_count": 17,
     "metadata": {},
     "output_type": "execute_result"
    }
   ],
   "source": [
    "contrato.transact(transact_params).set_permission(endereco_pessoal, True)"
   ]
  },
  {
   "cell_type": "code",
   "execution_count": 8,
   "metadata": {},
   "outputs": [
    {
     "data": {
      "text/plain": [
       "['diego', '079']"
      ]
     },
     "execution_count": 8,
     "metadata": {},
     "output_type": "execute_result"
    }
   ],
   "source": [
    "contrato.functions.get_data(endereco_pessoal).call()"
   ]
  },
  {
   "cell_type": "code",
   "execution_count": 18,
   "metadata": {},
   "outputs": [],
   "source": [
    "resultado = contrato.functions.get_ecg_data(endereco_pessoal).call()"
   ]
  },
  {
   "cell_type": "code",
   "execution_count": null,
   "metadata": {},
   "outputs": [],
   "source": [
    "# plotar resultado"
   ]
  }
 ],
 "metadata": {
  "kernelspec": {
   "display_name": "Python 3",
   "language": "python",
   "name": "python3"
  },
  "language_info": {
   "codemirror_mode": {
    "name": "ipython",
    "version": 3
   },
   "file_extension": ".py",
   "mimetype": "text/x-python",
   "name": "python",
   "nbconvert_exporter": "python",
   "pygments_lexer": "ipython3",
   "version": "3.6.9"
  }
 },
 "nbformat": 4,
 "nbformat_minor": 2
}
